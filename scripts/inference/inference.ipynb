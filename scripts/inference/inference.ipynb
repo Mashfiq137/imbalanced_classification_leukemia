{
 "cells": [
  {
   "cell_type": "code",
   "execution_count": 1,
   "id": "3ec85991",
   "metadata": {},
   "outputs": [],
   "source": [
    "import numpy as np\n",
    "import os\n",
    "import cv2\n",
    "import matplotlib.pyplot as plt\n",
    "from keras.models import load_model\n",
    "import numpy as np \n",
    "import pandas as pd \n",
    "import os\n",
    "import glob\n",
    "import cv2\n",
    "import random\n",
    "import matplotlib.pyplot as plt\n",
    "%matplotlib inline\n",
    "import matplotlib.pyplot as plt\n",
    "import matplotlib.image as mpimg\n",
    "from keras.preprocessing.image import ImageDataGenerator\n",
    "from keras.models import Sequential\n",
    "from keras.optimizers import RMSprop\n",
    "from keras.layers import Conv2D, MaxPooling2D\n",
    "from keras.layers import Activation, Dropout, Flatten, Dense\n",
    "from keras import regularizers\n",
    "from keras.callbacks import CSVLogger\n",
    "#from livelossplot import PlotLossesKeras\n",
    "import os\n",
    "import numpy as np\n",
    "#from imgaug import augmenters as iaa\n",
    "#import cv2\n",
    "from keras.layers.normalization import BatchNormalization\n",
    "#import seaborn as sns\n",
    "import pandas as pd \n",
    "from keras import initializers\n",
    "from keras import optimizers\n",
    "import keras.backend as K\n",
    "import tensorflow as tf\n",
    "import operator"
   ]
  },
  {
   "cell_type": "code",
   "execution_count": 2,
   "id": "9ad62919",
   "metadata": {},
   "outputs": [],
   "source": [
    "val_all_path = r'D:\\new_leuk\\Leukemia_Work_Revive\\dataset\\val\\all'\n",
    "val_hem_path = r'D:\\new_leuk\\Leukemia_Work_Revive\\dataset\\val\\hem'"
   ]
  },
  {
   "cell_type": "code",
   "execution_count": 3,
   "id": "8b78431d",
   "metadata": {},
   "outputs": [],
   "source": [
    "val_all_list = os.listdir(val_all_path)\n",
    "#val_all_list.sort()\n",
    "\n",
    "val_hem_list = os.listdir(val_hem_path)          \n",
    "#val_hem_list.sort()"
   ]
  },
  {
   "cell_type": "code",
   "execution_count": null,
   "id": "d61a3cd3",
   "metadata": {},
   "outputs": [],
   "source": [
    "print('val/all: ', len(val_all_list))\n",
    "print('val/hem :', len(val_hem_list))"
   ]
  },
  {
   "cell_type": "code",
   "execution_count": 5,
   "id": "90bc1c0d",
   "metadata": {},
   "outputs": [],
   "source": [
    "val_all_batch = np.zeros((len(val_all_list), 210, 210, 3), dtype=np.uint8)\n",
    "val_hem_batch = np.zeros((len(val_hem_list), 210, 210, 3), dtype=np.uint8) "
   ]
  },
  {
   "cell_type": "code",
   "execution_count": null,
   "id": "4fcf5a20",
   "metadata": {},
   "outputs": [],
   "source": [
    "print(val_all_batch.shape, val_hem_batch.shape)"
   ]
  },
  {
   "cell_type": "code",
   "execution_count": 7,
   "id": "3d39db6e",
   "metadata": {},
   "outputs": [],
   "source": [
    "def Read_n_Crop(list_data, batch, path):\n",
    "    i=0\n",
    "    for x in list_data:\n",
    "        image = cv2.imread(os.path.join(path, x))\n",
    "        image = cv2.cvtColor(image,cv2.COLOR_BGR2RGB)\n",
    "        image = crop_center(image, (210,210,3))\n",
    "        batch[i] = image\n",
    "        i+=1\n",
    "    \n",
    "    print(type(batch), batch.shape, batch.dtype, batch[0].shape, batch[0].dtype)\n",
    "    return batch"
   ]
  },
  {
   "cell_type": "code",
   "execution_count": 8,
   "id": "5fa8660e",
   "metadata": {},
   "outputs": [],
   "source": [
    "def crop_center(img, bounding):\n",
    "    start = tuple(map(lambda a, da: a//2-da//2, img.shape, bounding))\n",
    "    end = tuple(map(operator.add, start, bounding))\n",
    "    slices = tuple(map(slice, start, end))\n",
    "    return img[slices]"
   ]
  },
  {
   "cell_type": "code",
   "execution_count": null,
   "id": "612a3d59",
   "metadata": {},
   "outputs": [],
   "source": [
    "parasite_images=Read_n_Crop(val_all_list, val_all_batch, val_all_path)\n",
    "uninf_images=Read_n_Crop(val_hem_list, val_hem_batch, val_hem_path) "
   ]
  },
  {
   "cell_type": "code",
   "execution_count": null,
   "id": "8d666c3e",
   "metadata": {},
   "outputs": [],
   "source": [
    "para_label = np.array([0 for _ in range(len(parasite_images))])\n",
    "uninf_label = np.array([1 for _ in range(len(uninf_images))])\n",
    "\n",
    "para_label.shape, uninf_label.shape"
   ]
  },
  {
   "cell_type": "code",
   "execution_count": null,
   "id": "ce1cbe3f",
   "metadata": {},
   "outputs": [],
   "source": [
    "x_all = np.concatenate((parasite_images, uninf_images), axis=0)\n",
    "y_all = np.concatenate((para_label, uninf_label), axis=0)\n",
    "print(x_all.shape, y_all.shape)"
   ]
  },
  {
   "cell_type": "code",
   "execution_count": null,
   "id": "8e1d5900",
   "metadata": {},
   "outputs": [],
   "source": [
    "model = None\n",
    "model = load_model(r\"C:\\Users\\NSU\\10x_adam_baseline_vgg.h5\", compile = False)\n",
    "model.summary()"
   ]
  },
  {
   "cell_type": "code",
   "execution_count": null,
   "id": "4f9186b4",
   "metadata": {},
   "outputs": [],
   "source": [
    "x_all=x_all/255.0\n",
    "# Make predictions using trained model\n",
    "y_pred = model.predict(x_all, verbose=1)\n",
    "print(\"Predictions: \", y_pred.shape)"
   ]
  },
  {
   "cell_type": "code",
   "execution_count": null,
   "id": "284fa685",
   "metadata": {},
   "outputs": [],
   "source": [
    "y_pred_flat = []\n",
    "for pred in y_pred:\n",
    "   if pred > 0.5:\n",
    "       y_pred_flat.append(1)\n",
    "   else:\n",
    "       y_pred_flat.append(0)\n",
    "y_pred_flat = np.array(y_pred_flat)"
   ]
  },
  {
   "cell_type": "code",
   "execution_count": null,
   "id": "8abd74d5",
   "metadata": {},
   "outputs": [],
   "source": [
    "from sklearn.metrics import confusion_matrix, classification_report\n",
    "\n",
    "# Classification report\n",
    "\n",
    "confusion_mtx = confusion_matrix(y_all, y_pred_flat) \n",
    "print(confusion_mtx)\n",
    "target_names = ['0', '1']\n",
    "print(classification_report(y_all, y_pred_flat, target_names=target_names, digits=4))"
   ]
  }
 ],
 "metadata": {
  "kernelspec": {
   "display_name": "leukemia",
   "language": "python",
   "name": "leukemia"
  },
  "language_info": {
   "codemirror_mode": {
    "name": "ipython",
    "version": 3
   },
   "file_extension": ".py",
   "mimetype": "text/x-python",
   "name": "python",
   "nbconvert_exporter": "python",
   "pygments_lexer": "ipython3",
   "version": "3.8.3"
  }
 },
 "nbformat": 4,
 "nbformat_minor": 5
}
