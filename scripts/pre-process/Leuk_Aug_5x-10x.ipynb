{
 "cells": [
  {
   "cell_type": "code",
   "execution_count": 1,
   "id": "9c798a58",
   "metadata": {},
   "outputs": [],
   "source": [
    "import numpy as np\n",
    "import imgaug as ia\n",
    "import imgaug.augmenters as iaa\n",
    "import numpy as np\n",
    "import os\n",
    "import cv2\n",
    "import matplotlib.pyplot as plt\n",
    "%matplotlib inline\n",
    "import operator\n",
    "import tensorflow as tf\n",
    "import random\n",
    "from keras.preprocessing.image import ImageDataGenerator\n",
    "import skimage\n",
    "from skimage.io import imread, imshow, imsave"
   ]
  },
  {
   "cell_type": "code",
   "execution_count": 2,
   "id": "d2aff67d",
   "metadata": {},
   "outputs": [],
   "source": [
    "def crop_center(img, bounding):\n",
    "    start = tuple(map(lambda a, da: a//2-da//2, img.shape, bounding))\n",
    "    end = tuple(map(operator.add, start, bounding))\n",
    "    slices = tuple(map(slice, start, end))\n",
    "    return img[slices]"
   ]
  },
  {
   "cell_type": "code",
   "execution_count": 3,
   "id": "7d3d5134",
   "metadata": {},
   "outputs": [],
   "source": [
    "'''Source Path'''\n",
    "train_all_path = r'F:\\Leuk study re-designed\\C-NMC\\High imbalance\\Train - 1 to 102 ratio\\all'\n",
    "train_hem_path = r'F:\\Leuk study re-designed\\C-NMC\\High imbalance\\Train - 1 to 102 ratio\\hem'  # augment this\n",
    "\n",
    "# val_all_path = r'D:\\new_leuk\\Leukemia_Work_Revive\\Corrected\\Originall data\\val\\all'\n",
    "# val_hem_path = r'D:\\new_leuk\\Leukemia_Work_Revive\\Corrected\\Originall data\\val\\hem'     # augment this"
   ]
  },
  {
   "cell_type": "code",
   "execution_count": null,
   "id": "1bb49f3a",
   "metadata": {},
   "outputs": [],
   "source": [
    "train_all_list = os.listdir(train_all_path)\n",
    "train_all_list.sort()\n",
    "\n",
    "train_hem_list = os.listdir(train_hem_path)       # augment this\n",
    "train_hem_list.sort()\n",
    "\n",
    "# val_all_list = os.listdir(val_all_path)\n",
    "# val_all_list.sort()\n",
    "\n",
    "# val_hem_list = os.listdir(val_hem_path)          # augment this\n",
    "# val_hem_list.sort()\n",
    "\n",
    "print('train/all: ', len(train_all_list))\n",
    "print('train/hem :', len(train_hem_list))\n",
    "# print('val/all: ', len(val_all_list))\n",
    "# print('val/hem :', len(val_hem_list))"
   ]
  },
  {
   "cell_type": "code",
   "execution_count": null,
   "id": "75a7de4f",
   "metadata": {},
   "outputs": [],
   "source": [
    "train_all_batch = np.zeros((len(train_all_list), 210, 210, 3), dtype=np.uint8)\n",
    "train_hem_batch = np.zeros((len(train_hem_list), 210, 210, 3), dtype=np.uint8)    # augment this\n",
    "\n",
    "# val_all_batch = np.zeros((len(val_all_list), 210, 210, 3), dtype=np.uint8)\n",
    "# val_hem_batch = np.zeros((len(val_hem_list), 210, 210, 3), dtype=np.uint8)        # augment this\n",
    "\n",
    "print(train_all_batch.shape, train_hem_batch.shape)\n",
    "#print(val_all_batch.shape, val_hem_batch.shape)"
   ]
  },
  {
   "cell_type": "code",
   "execution_count": 6,
   "id": "32da7515",
   "metadata": {},
   "outputs": [],
   "source": [
    "def Read_n_Crop(list_data, batch, path):\n",
    "    i=0\n",
    "    for x in list_data:\n",
    "        image = imread(os.path.join(path, x))\n",
    "        image = crop_center(image, (210,210,3))\n",
    "        batch[i] = image\n",
    "        i+=1\n",
    "    \n",
    "    print(type(batch), batch.shape, batch.dtype, batch[0].shape, batch[0].dtype)"
   ]
  },
  {
   "cell_type": "code",
   "execution_count": null,
   "id": "d36c212c",
   "metadata": {},
   "outputs": [],
   "source": [
    "Read_n_Crop(train_all_list, train_all_batch, train_all_path)\n",
    "Read_n_Crop(train_hem_list, train_hem_batch, train_hem_path)      # augment this\n",
    "\n",
    "# Read_n_Crop(val_all_list, val_all_batch, val_all_path)\n",
    "# Read_n_Crop(val_hem_list, val_hem_batch, val_hem_path)           # augment this"
   ]
  },
  {
   "cell_type": "code",
   "execution_count": 8,
   "id": "f4dfea90",
   "metadata": {},
   "outputs": [],
   "source": [
    "'''Save Oversampled Cropped Images'''\n",
    "def SaveOC_images(list_data, path, batch):\n",
    "    for x in range(len(list_data)):\n",
    "#         print(path)\n",
    "        new_path = path + '/' + list_data[x]\n",
    "        print(new_path)\n",
    "#         break\n",
    "        imsave(new_path ,batch[x])"
   ]
  },
  {
   "cell_type": "code",
   "execution_count": null,
   "id": "2dda9d6a",
   "metadata": {},
   "outputs": [],
   "source": [
    "path = 'F:/Leuk study re-designed/C-NMC/High imbalance/10x Aug/all'\n",
    "SaveOC_images(train_all_list, path, train_all_batch)\n",
    "path = 'F:/Leuk study re-designed/C-NMC/High imbalance/10x Aug/hem'\n",
    "SaveOC_images(train_hem_list, path, train_hem_batch)     # augment this\n",
    "\n",
    "# path = 'D:/new_leuk/Leukemia_Work_Revive/Corrected/Aug_5x/val/all'\n",
    "# SaveOC_images(val_all_list, path, val_all_batch)\n",
    "# path = 'D:/new_leuk/Leukemia_Work_Revive/Corrected/Aug_5x/val/hem'\n",
    "# SaveOC_images(val_hem_list, path, val_hem_batch)         # augment this"
   ]
  },
  {
   "cell_type": "code",
   "execution_count": 10,
   "id": "97406785",
   "metadata": {},
   "outputs": [],
   "source": [
    "def Plot_images(batch, num):\n",
    "    i=0\n",
    "    plt.figure(figsize=(15,15))\n",
    "    for x in batch:\n",
    "        if 0<=i<(num*num):\n",
    "            plt.subplot(num,num,i+1)\n",
    "            plt.imshow(x)\n",
    "        else:\n",
    "            break\n",
    "        i +=1"
   ]
  },
  {
   "cell_type": "code",
   "execution_count": null,
   "id": "78a6b319",
   "metadata": {},
   "outputs": [],
   "source": [
    "num = 8 # row n col\n",
    "Plot_images(train_hem_batch, num)"
   ]
  },
  {
   "cell_type": "code",
   "execution_count": 12,
   "id": "6566263a",
   "metadata": {},
   "outputs": [],
   "source": [
    "# num = 5\n",
    "# Plot_images(val_hem_batch, num)"
   ]
  },
  {
   "cell_type": "code",
   "execution_count": 13,
   "id": "fc1910a9",
   "metadata": {},
   "outputs": [],
   "source": [
    "# '''Define Augmentation Pipeline'''\n",
    "\n",
    "# sometimes = lambda aug: iaa.Sometimes(0.5, aug)\n",
    "# seq = iaa.Sequential(\n",
    "#     [\n",
    "#         # apply the following augmenters to most images\n",
    "#         iaa.Fliplr(0.5), # horizontally flip 50% of all images\n",
    "#         iaa.Flipud(0.2), # vertically flip 20% of all images\n",
    "#         # crop images by -5% to 10% of their height/width\n",
    "#         sometimes(iaa.CropAndPad(\n",
    "#             percent=(-0.05, 0.1),\n",
    "#             pad_mode=ia.ALL,\n",
    "#             pad_cval=(0, 255)\n",
    "#         )),\n",
    "#         sometimes(iaa.Affine(\n",
    "#             scale={\"x\": (0.8, 1.2), \"y\": (0.8, 1.2)}, # scale images to 80-120% of their size, individually per axis\n",
    "#             translate_percent={\"x\": (-0.2, 0.2), \"y\": (-0.2, 0.2)}, # translate by -20 to +20 percent (per axis)\n",
    "#             rotate=(-45, 45), # rotate by -45 to +45 degrees\n",
    "#             shear=(-16, 16), # shear by -16 to +16 degrees\n",
    "#             order=[0, 1], # use nearest neighbour or bilinear interpolation (fast)\n",
    "#             cval=(0, 255), # if mode is constant, use a cval between 0 and 255\n",
    "#             mode=ia.ALL # use any of scikit-image's warping modes (see 2nd image from the top for examples)\n",
    "#         )),\n",
    "#         #'''\n",
    "#         # execute 0 to 5 of the following (less important) augmenters per image\n",
    "#         # don't execute all of them, as that would often be way too strong\n",
    "#         iaa.SomeOf((0, 5),\n",
    "#             [\n",
    "#                 sometimes(iaa.Superpixels(p_replace=(0, 1.0), n_segments=(20, 200))), # convert images into their superpixel representation\n",
    "#                 iaa.OneOf([\n",
    "#                     iaa.GaussianBlur((0, 3.0)), # blur images with a sigma between 0 and 3.0\n",
    "#                     iaa.AverageBlur(k=(2, 7)), # blur image using local means with kernel sizes between 2 and 7\n",
    "#                     iaa.MedianBlur(k=(3, 11)), # blur image using local medians with kernel sizes between 2 and 7\n",
    "#                 ]),\n",
    "#                 iaa.Sharpen(alpha=(0, 1.0), lightness=(0.75, 1.5)), # sharpen images\n",
    "#                 iaa.Emboss(alpha=(0, 1.0), strength=(0, 2.0)), # emboss images\n",
    "#                 # search either for all edges or for directed edges,\n",
    "#                 # blend the result with the original image using a blobby mask\n",
    "#                 iaa.BlendAlphaSimplexNoise(iaa.OneOf([\n",
    "#                     iaa.EdgeDetect(alpha=(0.5, 1.0)),\n",
    "#                     iaa.DirectedEdgeDetect(alpha=(0.5, 1.0), direction=(0.0, 1.0)),\n",
    "#                 ])),\n",
    "#                 iaa.AdditiveGaussianNoise(loc=0, scale=(0.0, 0.05*255), per_channel=0.5), # add gaussian noise to images\n",
    "#                 iaa.OneOf([\n",
    "#                     iaa.Dropout((0.01, 0.1), per_channel=0.5), # randomly remove up to 10% of the pixels\n",
    "#                     iaa.CoarseDropout((0.03, 0.15), size_percent=(0.02, 0.05), per_channel=0.2),\n",
    "#                 ]),\n",
    "#                 iaa.Invert(0.05, per_channel=True), # invert color channels\n",
    "#                 iaa.Add((-10, 10), per_channel=0.5), # change brightness of images (by -10 to 10 of original value)\n",
    "#                 iaa.AddToHueAndSaturation((-20, 20)), # change hue and saturation\n",
    "#                 # either change the brightness of the whole image (sometimes\n",
    "#                 # per channel) or change the brightness of subareas\n",
    "#                 iaa.OneOf([\n",
    "#                     iaa.Multiply((0.5, 1.5), per_channel=0.5),\n",
    "#                     iaa.BlendAlphaFrequencyNoise(\n",
    "#                         exponent=(-4, 0),\n",
    "#                         foreground=iaa.Multiply((0.5, 1.5), per_channel=True),\n",
    "#                         background=iaa.LinearContrast((0.5, 2.0))\n",
    "#                     )\n",
    "#                 ]),\n",
    "#                 iaa.LinearContrast((0.5, 2.0), per_channel=0.5), # improve or worsen the contrast\n",
    "#                 iaa.Grayscale(alpha=(0.0, 1.0)),\n",
    "#                 sometimes(iaa.ElasticTransformation(alpha=(0.5, 3.5), sigma=0.25)), # move pixels locally around (with random strengths)\n",
    "#                 sometimes(iaa.PiecewiseAffine(scale=(0.01, 0.05))), # sometimes move parts of the image around\n",
    "#                 sometimes(iaa.PerspectiveTransform(scale=(0.01, 0.1)))\n",
    "#             ],\n",
    "#             #'''\n",
    "#             random_order=True\n",
    "#         )\n",
    "#     ],\n",
    "#     random_order=True\n",
    "# )\n"
   ]
  },
  {
   "cell_type": "code",
   "execution_count": 14,
   "id": "e515baa2",
   "metadata": {},
   "outputs": [],
   "source": [
    "sometimes = lambda aug: iaa.Sometimes(0.5, aug)\n",
    "seq = iaa.Sequential([\n",
    "    # apply the following augmenters to most images\n",
    "        iaa.Fliplr(0.5), # horizontally flip 50% of all images\n",
    "        iaa.Flipud(0.2), # vertically flip 20% of all images\n",
    "        # crop images by -5% to 10% of their height/width\n",
    "         iaa.Crop(percent=(0, 0.1)), # random crops\n",
    "    \n",
    "        sometimes(iaa.CropAndPad(\n",
    "            pad_mode=ia.ALL,          \n",
    "            percent=(-0.05, 0.1),\n",
    "            pad_cval=(0, 255)\n",
    "        )),\n",
    "    \n",
    "      sometimes(iaa.Affine(\n",
    "            scale={\"x\": (0.8, 1.2), \"y\": (0.8, 1.2)}, # scale images to 80-120% of their size, individually per axis\n",
    "            translate_percent={\"x\": (-0.2, 0.2), \"y\": (-0.2, 0.2)}, # translate by -20 to +20 percent (per axis)\n",
    "            rotate=(-45, 45), # rotate by -45 to +45 degrees\n",
    "            #shear=(-16, 16), # shear by -16 to +16 degrees\n",
    "            #order=[0, 1], # use nearest neighbour or bilinear interpolation (fast)\n",
    "            #cval=(0, 255), # if mode is constant, use a cval between 0 and 255\n",
    "            #mode=ia.ALL # use any of scikit-image's warping modes (see 2nd image from the top for examples)\n",
    "        )),\n",
    "],\n",
    "random_order=True\n",
    ")"
   ]
  },
  {
   "cell_type": "code",
   "execution_count": 15,
   "id": "b412721a",
   "metadata": {},
   "outputs": [],
   "source": [
    "def AugmentNsave_images(seq, batch, list_data, path, n):\n",
    "    '''Augment'''\n",
    "    images_aug = seq(images=batch)\n",
    "    print(type(images_aug), images_aug.shape, images_aug.dtype, np.max(images_aug), np.min(images_aug), images_aug[0].shape, images_aug[0].dtype, np.max(images_aug[0]), np.min(images_aug[0]))\n",
    "    '''Save'''\n",
    "    for x in range(len(list_data)):\n",
    "        #print(path)\n",
    "        new_path = path + '/' + str(n) + 'Aug_' + list_data[x]\n",
    "        print(new_path)\n",
    "        imsave(new_path ,images_aug[x])"
   ]
  },
  {
   "cell_type": "code",
   "execution_count": null,
   "id": "7978e5f8",
   "metadata": {},
   "outputs": [],
   "source": [
    "'''Each time augmented results are different'''\n",
    "times2augment = 10\n",
    "path = 'F:/Leuk study re-designed/C-NMC/High imbalance/10x Aug/all'\n",
    "for x in range(times2augment):\n",
    "    AugmentNsave_images(seq,train_all_batch, train_all_list, path, x+1)\n",
    "    \n",
    "# path = 'D:/new_leuk/Leukemia_Work_Revive/Aug_10x/val/hem'\n",
    "# for x in range(times2augment):\n",
    "#     AugmentNsave_images(seq,val_hem_batch, val_hem_list, path, x+1)"
   ]
  },
  {
   "cell_type": "code",
   "execution_count": null,
   "id": "f70154c0",
   "metadata": {},
   "outputs": [],
   "source": []
  }
 ],
 "metadata": {
  "kernelspec": {
   "display_name": "leukemia",
   "language": "python",
   "name": "leukemia"
  },
  "language_info": {
   "codemirror_mode": {
    "name": "ipython",
    "version": 3
   },
   "file_extension": ".py",
   "mimetype": "text/x-python",
   "name": "python",
   "nbconvert_exporter": "python",
   "pygments_lexer": "ipython3",
   "version": "3.8.3"
  }
 },
 "nbformat": 4,
 "nbformat_minor": 5
}
