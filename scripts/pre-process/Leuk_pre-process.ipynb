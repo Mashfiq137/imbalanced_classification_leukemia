{
 "cells": [
  {
   "cell_type": "code",
   "execution_count": null,
   "id": "e6aaca56",
   "metadata": {},
   "outputs": [],
   "source": [
    "import numpy as np\n",
    "import cv2\n",
    "import os\n",
    "import skimage\n",
    "from skimage.io import imread, imshow\n",
    "import json\n",
    "from matplotlib import pyplot as plt\n",
    "from PIL import Image, ImageEnhance\n",
    "\n",
    "import cv2\n",
    "\n",
    "def pre_processImg(img):\n",
    "    \n",
    "    #-----Reading the image-----------------------------------------------------\n",
    "    #img = cv2.imread(r'E:\\Leuk study re-designed\\C-NMC\\Low imbalance\\Train - 1 to 10 ratio\\hem\\UID_H1_1_1_hem.bmp', 1)\n",
    "    img = cv2.cvtColor(img, cv2.COLOR_BGR2RGB)\n",
    "    #cv2.imshow(\"img\",img) \n",
    "\n",
    "    #-----Converting image to LAB Color model----------------------------------- \n",
    "    lab= cv2.cvtColor(img, cv2.COLOR_BGR2LAB)\n",
    "    #cv2.imshow(\"lab\",lab)\n",
    "\n",
    "    #-----Splitting the LAB image to different channels-------------------------\n",
    "    l, a, b = cv2.split(lab)\n",
    "    #cv2.imshow('l_channel', l)\n",
    "    #cv2.imshow('a_channel', a)\n",
    "    #cv2.imshow('b_channel', b)\n",
    "\n",
    "    #-----Applying CLAHE to L-channel-------------------------------------------\n",
    "    clahe = cv2.createCLAHE(clipLimit=3.0, tileGridSize=(8,8))\n",
    "    cl = clahe.apply(l)\n",
    "    #cv2.imshow('CLAHE output', cl)\n",
    "\n",
    "    #-----Merge the CLAHE enhanced L-channel with the a and b channel-----------\n",
    "    limg = cv2.merge((cl,a,b))\n",
    "    #cv2.imshow('limg', limg)\n",
    "\n",
    "    #-----Converting image from LAB Color model to RGB model--------------------\n",
    "    final = cv2.cvtColor(limg, cv2.COLOR_LAB2BGR)\n",
    "    print('Min max balues: ', np.max(final), np.min(final), final.dtype)\n",
    "    im = Image.fromarray(final)\n",
    "    enhancer = ImageEnhance.Brightness(im)\n",
    "\n",
    "    factor = 2.0 #gives original image\n",
    "    im_output = enhancer.enhance(factor)\n",
    "    #im_output.save('enhanced-2.0.0.png')\n",
    "    #cv2.imshow('final', final)\n",
    "\n",
    "    #_____END_____#\n",
    "\n",
    "    #frame = increase_brightness(final, value=20)\n",
    "\n",
    "    #fig = plt.figure(figsize=(10, 10))\n",
    "\n",
    "    # ax1 = fig.add_subplot(2, 2, 1)\n",
    "    # ax1.axis(\"off\")\n",
    "    # ax1.title.set_text('Original')\n",
    "    # ax2 = fig.add_subplot(2, 2, 2)\n",
    "    # ax2.axis(\"off\")\n",
    "    # ax2.title.set_text(\"Equalized\")\n",
    "    # ax3 = fig.add_subplot(2, 2, 3)\n",
    "    # ax3.axis(\"off\")\n",
    "    # ax3.title.set_text(\"Enhanced\")\n",
    "\n",
    "    # ax1.imshow(img, cmap='gray')\n",
    "    # ax2.imshow(final, cmap='gray')\n",
    "    # ax3.imshow(frame, cmap='gray')\n",
    "\n",
    "    #cv2.imwrite('./1.png', final)\n",
    "    return im_output #PIL -Image returning\n",
    "\n",
    "\n",
    "path_src = r'F:\\Leuk study re-designed\\C-NMC\\High imbalance\\Test\\hem'\n",
    "path_tgt = r'F:\\Leuk study re-designed\\C-NMC\\High imbalance\\Test\\enhanched\\hem'\n",
    "\n",
    "all_list = os.listdir(path_src)\n",
    "for x in range(len(all_list)):\n",
    "    img = cv2.imread(os.path.join(path_src, all_list[x]))\n",
    "    img = pre_processImg(img)\n",
    "    img.save(os.path.join(path_tgt, all_list[x]))\n",
    "print('Success')"
   ]
  },
  {
   "cell_type": "code",
   "execution_count": 18,
   "id": "42970481",
   "metadata": {},
   "outputs": [],
   "source": [
    "from PIL import Image, ImageEnhance\n",
    "\n",
    "#read the image\n",
    "im = Image.open(\"1.png\")\n",
    "\n",
    "#image brightness enhancer\n",
    "enhancer = ImageEnhance.Brightness(im)\n",
    "\n",
    "factor = 2.0 #gives original image\n",
    "im_output = enhancer.enhance(factor)\n",
    "im_output.save('enhanced-2.0.png')\n",
    "\n"
   ]
  },
  {
   "cell_type": "code",
   "execution_count": null,
   "id": "9a9ed127",
   "metadata": {},
   "outputs": [],
   "source": []
  },
  {
   "cell_type": "code",
   "execution_count": null,
   "id": "e86f8f66",
   "metadata": {},
   "outputs": [],
   "source": []
  },
  {
   "cell_type": "code",
   "execution_count": null,
   "id": "f144cc78",
   "metadata": {},
   "outputs": [],
   "source": []
  },
  {
   "cell_type": "code",
   "execution_count": null,
   "id": "ef6474df",
   "metadata": {},
   "outputs": [],
   "source": []
  },
  {
   "cell_type": "code",
   "execution_count": 19,
   "id": "53f17553",
   "metadata": {},
   "outputs": [],
   "source": [
    "x_train = np.load(\"x_train_leuknet.npy\")\n",
    "y_train = np.load(\"y_train_leuknet.npy\")"
   ]
  },
  {
   "cell_type": "code",
   "execution_count": 20,
   "id": "1799b735",
   "metadata": {},
   "outputs": [
    {
     "data": {
      "text/plain": [
       "((3727, 210, 210, 3), (3727,))"
      ]
     },
     "execution_count": 20,
     "metadata": {},
     "output_type": "execute_result"
    }
   ],
   "source": [
    "x_train.shape, y_train.shape"
   ]
  },
  {
   "cell_type": "code",
   "execution_count": 22,
   "id": "6154bac2",
   "metadata": {},
   "outputs": [],
   "source": [
    "from keras.utils import np_utils\n",
    "num_classes = 2\n",
    "\n",
    "y_train = np_utils.to_categorical(y_train,num_classes)"
   ]
  },
  {
   "cell_type": "code",
   "execution_count": 23,
   "id": "679091f0",
   "metadata": {},
   "outputs": [
    {
     "data": {
      "text/plain": [
       "((3727, 210, 210, 3), (3727, 2))"
      ]
     },
     "execution_count": 23,
     "metadata": {},
     "output_type": "execute_result"
    }
   ],
   "source": [
    "x_train.shape, y_train.shape"
   ]
  },
  {
   "cell_type": "code",
   "execution_count": null,
   "id": "154ddcbb",
   "metadata": {},
   "outputs": [],
   "source": [
    "from sklearn.utils import class_weight\n",
    "class_weights = class_weight.compute_class_weight('balanced', np.unique(np.argmax(y_train, axis=1)),np.argmax(y_train, axis=1))\n",
    "print(\"class weights: \",class_weights)"
   ]
  }
 ],
 "metadata": {
  "kernelspec": {
   "display_name": "leukemia",
   "language": "python",
   "name": "leukemia"
  },
  "language_info": {
   "codemirror_mode": {
    "name": "ipython",
    "version": 3
   },
   "file_extension": ".py",
   "mimetype": "text/x-python",
   "name": "python",
   "nbconvert_exporter": "python",
   "pygments_lexer": "ipython3",
   "version": "3.8.3"
  }
 },
 "nbformat": 4,
 "nbformat_minor": 5
}
