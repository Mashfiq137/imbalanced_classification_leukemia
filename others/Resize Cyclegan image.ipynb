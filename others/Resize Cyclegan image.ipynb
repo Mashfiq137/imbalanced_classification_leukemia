{
 "cells": [
  {
   "cell_type": "code",
   "execution_count": 25,
   "id": "52a6ebe1",
   "metadata": {},
   "outputs": [],
   "source": [
    "import numpy as np\n",
    "import os\n",
    "import cv2\n",
    "import matplotlib.pyplot as plt\n",
    "%matplotlib inline\n",
    "import operator\n",
    "import tensorflow as tf\n",
    "import random\n",
    "from keras.preprocessing.image import ImageDataGenerator\n",
    "import skimage\n",
    "from skimage.io import imread, imshow, imsave\n",
    "from skimage.transform import resize"
   ]
  },
  {
   "cell_type": "code",
   "execution_count": 26,
   "id": "5721fed9",
   "metadata": {},
   "outputs": [],
   "source": [
    "SOURCE_PATH = r'D:\\Leuk Dataset\\cyclegan generated hem only'\n",
    "TARGET_PATH = r'D:\\Leuk Dataset\\cyclegan generated hem only-resized'"
   ]
  },
  {
   "cell_type": "code",
   "execution_count": 27,
   "id": "197c7071",
   "metadata": {},
   "outputs": [],
   "source": [
    "def crop_center(img, bounding):\n",
    "    start = tuple(map(lambda a, da: a//2-da//2, img.shape, bounding))\n",
    "    end = tuple(map(operator.add, start, bounding))\n",
    "    slices = tuple(map(slice, start, end))\n",
    "    im = img[slices].astype('float32')\n",
    "    return im"
   ]
  },
  {
   "cell_type": "code",
   "execution_count": null,
   "id": "85ca7e7d",
   "metadata": {},
   "outputs": [],
   "source": [
    "image_list = os.listdir(SOURCE_PATH)\n",
    "image_list.sort()\n",
    "print(len(image_list))\n",
    "\n",
    "index=0\n",
    "for x in range(len(image_list)):\n",
    "    image  = imread(os.path.join(SOURCE_PATH, image_list[x]))\n",
    "#     print(image.dtype)\n",
    "#     print(image.shape)\n",
    "#     print(np.unique(image))\n",
    "    image = resize(image, (450,450,3), preserve_range=True, mode='constant')\n",
    "    image = image.astype('uint8')\n",
    "    path = 'D:/Leuk Dataset/cyclegan generated hem only-resized' + '/' + str(x) + image_list[x][-4:]\n",
    "    print(path)\n",
    "    imsave(path, image)"
   ]
  }
 ],
 "metadata": {
  "kernelspec": {
   "display_name": "Python 3",
   "language": "python",
   "name": "python3"
  },
  "language_info": {
   "codemirror_mode": {
    "name": "ipython",
    "version": 3
   },
   "file_extension": ".py",
   "mimetype": "text/x-python",
   "name": "python",
   "nbconvert_exporter": "python",
   "pygments_lexer": "ipython3",
   "version": "3.8.3"
  }
 },
 "nbformat": 4,
 "nbformat_minor": 5
}
